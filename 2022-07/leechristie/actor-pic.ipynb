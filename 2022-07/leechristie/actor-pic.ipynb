{
 "cells": [
  {
   "cell_type": "markdown",
   "id": "dc039d6f",
   "metadata": {},
   "source": [
    "# Actor Headshot Lookup\n",
    "\n",
    "[leechristie](https://github.com/leechristie)\n",
    "\n",
    "For Aberdeen Python User Group - July 2022"
   ]
  },
  {
   "cell_type": "code",
   "execution_count": null,
   "id": "243f820f",
   "metadata": {},
   "outputs": [],
   "source": [
    "import PySimpleGUI as sg\n",
    "from imdb import Cinemagoer\n",
    "import wget\n",
    "from PIL import Image\n",
    "import os\n",
    "\n",
    "ia = Cinemagoer()\n",
    "sg.theme('DarkAmber')\n",
    "img = sg.Image()\n",
    "\n",
    "layout = [[sg.Text(\"Enter Actor's Name\")],\n",
    "          [sg.InputText()],\n",
    "          [sg.Button('Search'), sg.Button('Exit')] ,\n",
    "          [img]]\n",
    "\n",
    "window = sg.Window('Actor Headshot Lookup', layout)\n",
    "while True:\n",
    "    event, values = window.read()\n",
    "    if event == sg.WIN_CLOSED or event == 'Exit':\n",
    "        break\n",
    "    if event == 'Search':\n",
    "        try:\n",
    "            person = ia.search_person(values[0])[0]\n",
    "            filename = wget.download(person['full-size headshot'])\n",
    "            new_height = 400\n",
    "            im1 = Image.open(filename)\n",
    "            new_width = round(new_height * im1.width / im1.height)\n",
    "            im1.resize((new_width, new_height), Image.ANTIALIAS).save(filename + '.png')\n",
    "            img.update(filename + '.png')\n",
    "            for filename in os.listdir('.'):\n",
    "                f = os.path.join('.', filename)\n",
    "                if filename not in f and os.path.isfile(f) and f.endswith('.jpg') or f.endswith('.png'):\n",
    "                    os.remove(f)\n",
    "        except Exception as ex:\n",
    "            print(ex)\n",
    "    \n",
    "window.close()\n",
    "for filename in os.listdir('.'):\n",
    "    f = os.path.join('.', filename)\n",
    "    if os.path.isfile(f) and f.endswith('.jpg') or f.endswith('.png'):\n",
    "        os.remove(f)"
   ]
  },
  {
   "cell_type": "code",
   "execution_count": null,
   "id": "04fbb801",
   "metadata": {},
   "outputs": [],
   "source": []
  }
 ],
 "metadata": {
  "kernelspec": {
   "display_name": "Python 3 (ipykernel)",
   "language": "python",
   "name": "python3"
  },
  "language_info": {
   "codemirror_mode": {
    "name": "ipython",
    "version": 3
   },
   "file_extension": ".py",
   "mimetype": "text/x-python",
   "name": "python",
   "nbconvert_exporter": "python",
   "pygments_lexer": "ipython3",
   "version": "3.10.5"
  }
 },
 "nbformat": 4,
 "nbformat_minor": 5
}
