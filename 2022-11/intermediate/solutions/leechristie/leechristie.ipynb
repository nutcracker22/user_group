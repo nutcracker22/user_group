{
 "cells": [
  {
   "cell_type": "code",
   "execution_count": 1,
   "metadata": {
    "collapsed": true
   },
   "outputs": [
    {
     "name": "stdout",
     "output_type": "stream",
     "text": [
      "1   Worthington   Soutar   wsoutar0@sogou.com   Male   56.65.108.146   0\n",
      "\n"
     ]
    }
   ],
   "source": [
    "import re\n",
    "import tqdm.notebook as tqdm\n",
    "import pandas as pd\n",
    "\n",
    "path = '../../fake_client_data.csv'\n",
    "\n",
    "c = 0\n",
    "with open(path) as file:\n",
    "    for line in file:\n",
    "        if c == 1:\n",
    "            break\n",
    "        c += 1\n",
    "\n",
    "line = str(line)\n",
    "print(line)"
   ]
  },
  {
   "cell_type": "code",
   "execution_count": 2,
   "outputs": [],
   "source": [
    "# TODO: not quite done yet\n",
    "pattern = re.compile(r'^(\\d*)\\s*(\\w*)\\s*(\\w*)\\s*([\\w]*@\\w*[\\.]\\w*)\\s*([A-za-z]*)\\s*(\\d{0,3}\\.\\d{0,3}\\.\\d{0,3}\\.\\d{0,3})\\s+(\\d*[-\\s]*\\d*)')"
   ],
   "metadata": {
    "collapsed": false
   }
  },
  {
   "cell_type": "code",
   "execution_count": 3,
   "outputs": [
    {
     "data": {
      "text/plain": "  0%|          | 0/6002 [00:00<?, ?it/s]",
      "application/vnd.jupyter.widget-view+json": {
       "version_major": 2,
       "version_minor": 0,
       "model_id": "065418153bca46739a2f0888ac45f72c"
      }
     },
     "metadata": {},
     "output_type": "display_data"
    },
    {
     "data": {
      "text/plain": "     Column 0     Column 1          Column 2  \\\n0           1  Worthington            Soutar   \n1           2         Rivy          Trewhitt   \n2           3       Sandor            Boorne   \n3           4      Lavinie         Ricciardo   \n4           5   Christiana              Tuhy   \n...       ...          ...               ...   \n4955     5994       Jarrod          Theodore   \n4956     5997      Bettina            Kearns   \n4957     5998   Marcellina  mheatheringtonro   \n4958     6000   Alessandro           MacDuff   \n4959     6001         Port            Porter   \n\n                               Column 3 Column 4         Column 5   Column 6  \n0                    wsoutar0@sogou.com     Male    56.65.108.146          0  \n1     rtrewhitt1@scientificamerican.com            131.217.197.29     521 96  \n2                      sboorne2@mac.com     Male   156.58.225.121          0  \n3                  lricciardo3@bing.com   Female      46.99.6.240       4224  \n4              ctuhy4@elegantthemes.com   Female     55.141.89.64     811 40  \n...                                 ...      ...              ...        ...  \n4955                jtheodorerk@umn.edu             111.76.18.228          0  \n4956             bkearnsrn@bandcamp.com   Female    88.84.235.115      40293  \n4957                         @naver.com   Female   130.61.177.128     59715   \n4958       amacduffrq@ezinearticles.com     Male    144.252.186.4  23970-000  \n4959           pporterrr@shutterfly.com           229.252.144.125       3313  \n\n[4960 rows x 7 columns]",
      "text/html": "<div>\n<style scoped>\n    .dataframe tbody tr th:only-of-type {\n        vertical-align: middle;\n    }\n\n    .dataframe tbody tr th {\n        vertical-align: top;\n    }\n\n    .dataframe thead th {\n        text-align: right;\n    }\n</style>\n<table border=\"1\" class=\"dataframe\">\n  <thead>\n    <tr style=\"text-align: right;\">\n      <th></th>\n      <th>Column 0</th>\n      <th>Column 1</th>\n      <th>Column 2</th>\n      <th>Column 3</th>\n      <th>Column 4</th>\n      <th>Column 5</th>\n      <th>Column 6</th>\n    </tr>\n  </thead>\n  <tbody>\n    <tr>\n      <th>0</th>\n      <td>1</td>\n      <td>Worthington</td>\n      <td>Soutar</td>\n      <td>wsoutar0@sogou.com</td>\n      <td>Male</td>\n      <td>56.65.108.146</td>\n      <td>0</td>\n    </tr>\n    <tr>\n      <th>1</th>\n      <td>2</td>\n      <td>Rivy</td>\n      <td>Trewhitt</td>\n      <td>rtrewhitt1@scientificamerican.com</td>\n      <td></td>\n      <td>131.217.197.29</td>\n      <td>521 96</td>\n    </tr>\n    <tr>\n      <th>2</th>\n      <td>3</td>\n      <td>Sandor</td>\n      <td>Boorne</td>\n      <td>sboorne2@mac.com</td>\n      <td>Male</td>\n      <td>156.58.225.121</td>\n      <td>0</td>\n    </tr>\n    <tr>\n      <th>3</th>\n      <td>4</td>\n      <td>Lavinie</td>\n      <td>Ricciardo</td>\n      <td>lricciardo3@bing.com</td>\n      <td>Female</td>\n      <td>46.99.6.240</td>\n      <td>4224</td>\n    </tr>\n    <tr>\n      <th>4</th>\n      <td>5</td>\n      <td>Christiana</td>\n      <td>Tuhy</td>\n      <td>ctuhy4@elegantthemes.com</td>\n      <td>Female</td>\n      <td>55.141.89.64</td>\n      <td>811 40</td>\n    </tr>\n    <tr>\n      <th>...</th>\n      <td>...</td>\n      <td>...</td>\n      <td>...</td>\n      <td>...</td>\n      <td>...</td>\n      <td>...</td>\n      <td>...</td>\n    </tr>\n    <tr>\n      <th>4955</th>\n      <td>5994</td>\n      <td>Jarrod</td>\n      <td>Theodore</td>\n      <td>jtheodorerk@umn.edu</td>\n      <td></td>\n      <td>111.76.18.228</td>\n      <td>0</td>\n    </tr>\n    <tr>\n      <th>4956</th>\n      <td>5997</td>\n      <td>Bettina</td>\n      <td>Kearns</td>\n      <td>bkearnsrn@bandcamp.com</td>\n      <td>Female</td>\n      <td>88.84.235.115</td>\n      <td>40293</td>\n    </tr>\n    <tr>\n      <th>4957</th>\n      <td>5998</td>\n      <td>Marcellina</td>\n      <td>mheatheringtonro</td>\n      <td>@naver.com</td>\n      <td>Female</td>\n      <td>130.61.177.128</td>\n      <td>59715</td>\n    </tr>\n    <tr>\n      <th>4958</th>\n      <td>6000</td>\n      <td>Alessandro</td>\n      <td>MacDuff</td>\n      <td>amacduffrq@ezinearticles.com</td>\n      <td>Male</td>\n      <td>144.252.186.4</td>\n      <td>23970-000</td>\n    </tr>\n    <tr>\n      <th>4959</th>\n      <td>6001</td>\n      <td>Port</td>\n      <td>Porter</td>\n      <td>pporterrr@shutterfly.com</td>\n      <td></td>\n      <td>229.252.144.125</td>\n      <td>3313</td>\n    </tr>\n  </tbody>\n</table>\n<p>4960 rows × 7 columns</p>\n</div>"
     },
     "execution_count": 3,
     "metadata": {},
     "output_type": "execute_result"
    }
   ],
   "source": [
    "result = []\n",
    "\n",
    "count = 0\n",
    "with open(path) as file:\n",
    "    for line in file:\n",
    "        count += 1\n",
    "\n",
    "c = 0\n",
    "with open(path) as file:\n",
    "    for line in tqdm.tqdm(file, total=count):\n",
    "        if c > 0:\n",
    "            result.extend(pattern.findall(line.strip()))\n",
    "        c += 1\n",
    "\n",
    "cols = {f'Column {i}': [] for i in range(len(result[0]))}\n",
    "\n",
    "for line in result:\n",
    "    for i, e in enumerate(line):\n",
    "        cols[f'Column {i}'].append(e)\n",
    "\n",
    "pd.DataFrame(data=cols)"
   ],
   "metadata": {
    "collapsed": false
   }
  },
  {
   "cell_type": "code",
   "execution_count": null,
   "outputs": [],
   "source": [],
   "metadata": {
    "collapsed": false
   }
  }
 ],
 "metadata": {
  "kernelspec": {
   "display_name": "Python 3",
   "language": "python",
   "name": "python3"
  },
  "language_info": {
   "codemirror_mode": {
    "name": "ipython",
    "version": 2
   },
   "file_extension": ".py",
   "mimetype": "text/x-python",
   "name": "python",
   "nbconvert_exporter": "python",
   "pygments_lexer": "ipython2",
   "version": "2.7.6"
  }
 },
 "nbformat": 4,
 "nbformat_minor": 0
}
